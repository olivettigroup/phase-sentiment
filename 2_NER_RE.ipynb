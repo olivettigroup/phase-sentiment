{
 "cells": [
  {
   "cell_type": "markdown",
   "id": "5592065e",
   "metadata": {},
   "source": [
    "# LLM for named entity recognition and relationship extraction"
   ]
  },
  {
   "cell_type": "code",
   "execution_count": 2,
   "id": "e053e9fd",
   "metadata": {},
   "outputs": [],
   "source": [
    "from utils import *\n",
    "from json import JSONDecodeError\n",
    "import cohere\n",
    "from cohere import CohereError\n",
    "\n",
    "# Add you Cohere key here\n",
    "CO_KEY = ['YOUR_COHERE_KEY_HERE']\n",
    "co = cohere.Client(CO_KEY)"
   ]
  },
  {
   "cell_type": "code",
   "execution_count": 3,
   "id": "9ea83ce3",
   "metadata": {},
   "outputs": [],
   "source": [
    "# This should be a list of sentences that were extracted from the notebook 1_sentence_extraction.ipynb\n",
    "sentences = \"LOAD_HERE_THE_EXTRACTED_SENTENCES\""
   ]
  },
  {
   "cell_type": "markdown",
   "id": "58a48211-35ca-4065-828d-c7f22c069de1",
   "metadata": {},
   "source": [
    "Here we make the initial prompt with a few hand labelled examples. Each sentence is going to be appended at the bottom of this list and will form the final prompt given to the LLM."
   ]
  },
  {
   "cell_type": "code",
   "execution_count": 1,
   "id": "a6b9db94",
   "metadata": {},
   "outputs": [],
   "source": [
    "init_prompt = \"\"\"You are a machine extracting the phase, property, and relationship between the two from sentences extracted form the material science literature. The relationship can either be positive or negative. Your response must contain all three in the following format:\n",
    "Phase:\n",
    "Property:\n",
    "Relationship:\n",
    "Below are some examples:\n",
    "\n",
    "Sentence: The significant improvement in tensile properties is attributed to the dissolution of network-like T phases and solid solution strengthening.\n",
    "Phase: T phases\n",
    "Property: tensile properties\n",
    "Relationship: positive\n",
    "--\n",
    "Sentence: In addition, the length of the β-particles is also detrimental to the ultimate tensile strength, as it allows for easy crack propagation along the particle.\n",
    "Phase: β-particles\n",
    "Property: ultimate tensile strength\n",
    "Relationship: negative\n",
    "--\n",
    "Sentence: Mudgal et al. [15] studied the corrosion properties of D gun sprayed Cr3C2-NiCr coatings and found that chromium oxide and NiCr2O3 phases were formed on the coating structure and that exhibited better corrosion resistance.\n",
    "Phase: NiCr2O3 phases\n",
    "Property: corrosion resistance\n",
    "Relationship: positive\n",
    "--\n",
    "Sentence: Increases in wear resistance (less mass loss) are due to the protective nature of reinforcement particles as hard and high strength load bearing components of the composite and hard abrasion resistance nature of surface oxides.\n",
    "Phase: reinforcement particles\n",
    "Property: wear resistance\n",
    "Relationship: positive\n",
    "--\n",
    "Sentence: After solution treatment at 470 degC for 24 h, these T-phases were mostly dissolved into the α-Al matrix, resulting in a remarkable increase in elongation and strength.\n",
    "Phase: T-phases\n",
    "Property: elongation && strength\n",
    "Relationship: positive\n",
    "--\n",
    "Sentence: The high-resolution transmission electron microscopy (TEM) image reveals the wrapping of microstructural silicon by rGO, which inhibits the growth of primary silicon and improves the interfacial strengthening.\n",
    "Phase: rGO\n",
    "Property: interfacial strength\n",
    "Relationship: positive\n",
    "--\n",
    "Sentence: A clear decrease in hardness is observed in the HAZ due to the partial dissolution of hardening phase (β'' and η' respectively) in the two grades with growth of non-hardening phase (β' and η respectively) during the cooling leading to solute depletion in aluminium matrix.\n",
    "Phase: β'' && η'\n",
    "Property: hardness\n",
    "Relationship: negative\n",
    "--\n",
    "Sentence: Such an increase has also been seen in FSW joints, where it was coupled to increasing dissolution of non-hardening precipitates leaving increasing amounts of solutes in solid solution, which in turn gave increasing hardness during natural ageing after cooling [41,44].\n",
    "Phase: non-hardening precipitates\n",
    "Property: hardness\n",
    "Relationship: positive\n",
    "--\n",
    "Sentence: [87] show that an increase in volume fraction of ceramic reinforcements reduces ductility and fracture toughness.\n",
    "Phase: ceramic reinforcements\n",
    "Property: fracture toughness\n",
    "Relationship: negative\n",
    "--\n",
    "Sentence: At the same time, in the multi-pass tube fabrication process, Laves phase particles could suppress grain coarsening rates during inter-pass annealing, helping obtain desirable microstructures for balanced deformability and the final properties of tube products.\n",
    "Phase: Laves phase particles\n",
    "Property: deformability && final properties\n",
    "Relationship: positive\n",
    "--\n",
    "Sentence: It was observed that the formation of the heusler phase Ni2AlHf in hafnium reinforced eutectic alloys NiAl-Cr(Mo)-0.1Hf improves strength at elevated temperatures; however, this strength is enhanced to the detriment of the room temperature ductility of the intermetallic [44].\n",
    "Phase: Ni2AlHf\n",
    "Property: strength\n",
    "Relationship: positive\n",
    "--\n",
    "Sentence: Li XZ, Hansen V, Gjonnes J et al (1999) HREM study and structure modeling of the η' phase, the hardening precipitates in commercial Al-Zn-Mg alloys.\n",
    "Phase: η' phase\n",
    "Property: hardness\n",
    "Relationship: positive\n",
    "--\n",
    "Sentence: The formation of slightly large-sized Al12(Fe, V)3Si (30-110 nm) and coarser AlmFe (100-400 nm) phases in EBM built sample could cause a reduction in tensile strength in contrast to PFC products.\n",
    "Phase: Al12(Fe, V)3Si && AlmFe\n",
    "Property: tensile strength\n",
    "Relationship: negative\n",
    "--\n",
    "Sentence: Although the strength of materials decreased slightly, the impact toughness of materials significantly increased due to the positive effect of the intragranular equilibrium η phase.\n",
    "Phase: η phase\n",
    "Property: impact toughness\n",
    "Relationship: positive\n",
    "--\n",
    "Sentence: Spray forming of the hypereutectic aluminium-silicon alloy allows introduction of the strengthening Fe and Si components into the material.\n",
    "Phase: Fe && Si\n",
    "Property: strength\n",
    "Relationship: positive\n",
    "--\n",
    "Sentence: However, silicon carbide reinforced aluminium matrix composites are reported to be more susceptible to localized corrosion attack than their monolithic counterpart 3.\n",
    "Phase: silicon carbide reinforced aluminium matrix composites\n",
    "Property: corrosion\n",
    "Relationship: positive\n",
    "--\n",
    "Sentence: However, conventional techniques of processing of these materials lead to coarse and segregated microstructures with long plates of intermetallic transition metal compounds that give rise to inferior properties.\n",
    "Phase: transition metal compounds\n",
    "Property: inferior properties\n",
    "Relationship: positive\n",
    "--\n",
    "Sentence: The X-ray diffraction (XRD) pattern in Fig.1(b) reveals the principal strengthening precipitate δ' (Al3Li) together with other precipitates such as T1 (Al2CuLi), T2 (Al6Li3Cu), S' (Al2CuMg), θ' (Al2Cu) and β' (Al3Zr) in the as-received parent material.\n",
    "Phase: δ' (Al3Li)\n",
    "Property: strength\n",
    "Relationship: positive\n",
    "--\n",
    "Sentence: The addition of clay to silica-based sol-gel films protects aluminium from corrosion as reported by Dalmoro et al. The integration of zirconia nanoparticles into a hybrid matrix enhances several material functionalities because of its high mechanical strength, temperature resistance and chemical stability.\n",
    "Phase: zirconia nanoparticles\n",
    "Property: mechanical strength && temperature resistance && chemical stability\n",
    "Relationship: positive\n",
    "--\n",
    "Sentence: Primary Al13Fe4 grows into coarse flakes, needles and laths along a favorable orientation, severely cracking the matrix and negatively affecting its properties.\n",
    "Phase: Al13Fe4\n",
    "Property: properties\n",
    "Relationship: negative\n",
    "--\n",
    "Sentence: The attractive properties of this alloy are due to the presence of several metastable strengthening precipitates such as GP zones, δ′ (Al3Li), T1 (Al2CuLi), θ′ (Al2Cu), Ω (Al2Cu) and S′ (Al2CuMg).\n",
    "Phase: GP zones && δ′ (Al3Li) && T1 (Al2CuLi) && θ′ (Al2Cu) && Ω (Al2Cu) && S′ (Al2CuMg)\n",
    "Property: strength\n",
    "Relationship: positive\n",
    "--\n",
    "Sentence: The resistance of aluminium and its alloys against corrosion in aqueous media can be attributed to a rapidly formed surface oxide film which is composed of Al2O3, Al(OH)3 and AlO(OH) phases.\n",
    "Phase: Al2O3 && Al(OH)3 && AlO(OH)\n",
    "Property: corrosion resistance\n",
    "Relationship: positive\n",
    "--\n",
    "Sentence: Li et al. expressed that Mn, Fe and Si can form fine particles of AlMn, AlMnSi and Al(Mn,Fe)Si type precipitates along with aluminum solid solution which aid to work hardening and dislocations accumulation during deformations under high and ultra-high strains.\n",
    "Phase: AlMn && AlMnSi && Al(Mn,Fe)Si\n",
    "Property: work hardening\n",
    "Relationship: positive\"\"\""
   ]
  },
  {
   "cell_type": "code",
   "execution_count": null,
   "id": "d8f911e5-1a0a-4eee-a757-8ba0957fabb4",
   "metadata": {},
   "outputs": [],
   "source": [
    "sentence_data = []\n",
    "\n",
    "for i, sent in enumerate(sentences):\n",
    "    sent_data = {'sentence': sent}\n",
    "    \n",
    "    # We build the final prompt by appending the sentence to the initial prompt\n",
    "    prompt = init_prompt + \"\\n--\\nSentence: \" + sent + \"\\nPhase:\"\n",
    "\n",
    "    # Call Cohere model\n",
    "    response = co.generate(  \n",
    "        model='command-xlarge-beta', # It is possible that command-xlarge-beta isn't avaialble anymore\n",
    "        prompt=prompt,\n",
    "        max_tokens=100,\n",
    "        temperature=0.5,\n",
    "        stop_sequences=[\"--\"])\n",
    "\n",
    "    # We get the answer and parse it\n",
    "    answers = [s.split('\\n')[0][1:] for s in response.generations[0].text.split(':')]\n",
    "    sent_data['phase'] = answers[0]\n",
    "    sent_data['property'] = answers[1]\n",
    "    sent_data['relationship'] = answers[2]\n",
    "\n",
    "    sentence_data.append(sent_data)"
   ]
  },
  {
   "cell_type": "markdown",
   "id": "9a07b7a7-35ba-46e4-bb47-2e0111e0dc27",
   "metadata": {},
   "source": [
    "## Splitting the resulting entities\n",
    "Some sentences mention multiple phases and/or properties at the same time. We split those using a mix of our convention (separating entities with &&) and the common way of writing lists (A, B, and C)."
   ]
  },
  {
   "cell_type": "code",
   "execution_count": null,
   "id": "0dd6a2e7",
   "metadata": {},
   "outputs": [],
   "source": [
    "sentence_data_split = split_entities(sentence_data)"
   ]
  },
  {
   "cell_type": "markdown",
   "id": "1135e082",
   "metadata": {},
   "source": [
    "# Evaluating LLM extraction\n",
    "To evaluate the performance of the NER and RE performed with LLM, a manually labeled set of entities is present in \"data/manually_labelled_entities.npy\"."
   ]
  },
  {
   "cell_type": "code",
   "execution_count": 5,
   "id": "c0e11d1c",
   "metadata": {},
   "outputs": [
    {
     "name": "stdout",
     "output_type": "stream",
     "text": [
      "[{'sentence': 'Alloys exhibiting this microstructure show poor ductility due to the large and brittle silicon plates.', 'phase': 'silicon plates', 'property': 'ductility', 'relationship': 'bad', 'true_phase': 'Si', 'true_property': 'ductility', 'true_relationship': 'bad', 'ture_phase': 'Si phase'}\n",
      " {'sentence': '1 - 3 However, at high temperatures, matrix/SiCp interfaces favor MgO formation, promoting premature failure and severe brittleness.', 'phase': 'matrix/SiCp interfaces', 'property': 'brittleness', 'relationship': 'bad', 'true_phase': 'MgO', 'true_property': 'brittleness', 'true_relationship': 'bad'}\n",
      " {'sentence': 'Homogeneously distributed fine precipitates appear to improve elongation, both to ultimate tensile strength and to failure in most cases.', 'phase': 'fine precipitates', 'property': 'elongation', 'relationship': 'good', 'true_phase': 'fine precipitates', 'true_property': 'elongation', 'true_relationship': 'good'}\n",
      " {'sentence': 'For fine Al-Cu-Mg matrix powders (FNP group) and 1 h of flake time, as the B4C nanoparticle content gets smaller from 1 to 5 wt %, density reduces from 2.7733 to 2.7350 g/cm3 and hardness increases from 117.11 to 125.21 BHN.', 'phase': 'B4C nanoparticle', 'property': 'density', 'relationship': 'good', 'true_phase': 'B4C nanoparticle', 'true_property': 'hardness', 'true_relationship': 'bad'}\n",
      " {'sentence': 'Therefore, the presence of small particles can result in a dense embryo body but affects the improvement of the physical properties.', 'phase': 'small particles', 'property': 'physical properties', 'relationship': 'bad', 'true_phase': 'small particles', 'true_property': 'physical properties', 'true_relationship': 'bad'}\n",
      " {'sentence': 'The significant additional hardening achieved in the alloy with scandium is attributed to small ordered particles of Al3Sc, which precipitated during aging.', 'phase': 'Al3Sc', 'property': 'hardening', 'relationship': 'good', 'true_phase': 'Al3Sc', 'true_property': 'hardening', 'true_relationship': 'good'}\n",
      " {'sentence': 'For coarser microstructural cellular arrangements, the Al6Fe fibers remain more concentrated in the intercellular regions provoking a deleterious effect on the mechanical properties due to the brittle nature of these fibers.', 'phase': 'Al6Fe', 'property': 'mechanical properties', 'relationship': 'bad', 'true_phase': 'Al6Fe', 'true_property': 'mechanical properties', 'true_relationship': 'bad'}\n",
      " {'sentence': 'It was also noticed that the uniform dispersion of Al2O3 particles in the fabricated layer increased the hardness to 133 HV which was over 3 times of that of the base metal.', 'phase': 'Al2O3 particles', 'property': 'hardness', 'relationship': 'good', 'true_phase': 'Al2O3', 'true_property': 'hardness', 'true_relationship': 'good'}\n",
      " {'sentence': \"Hence, the strengthening effect T6 state is mainly caused by θ'' precipitates.\", 'phase': \"θ'' precipitates\", 'property': 'strengthening effect', 'relationship': 'good', 'true_phase': \"θ''\", 'true_property': 'strengthening effect', 'true_relationship': 'good'}\n",
      " {'sentence': 'Experiments point out clearly that the aluminum component of the composite conductor can be improved to get the best conductivity properties by adding AlB2 in CCL.', 'phase': 'AlB2', 'property': 'conductivity', 'relationship': 'good', 'true_phase': 'AlB2', 'true_property': 'conductivity', 'true_relationship': 'good'}]\n"
     ]
    }
   ],
   "source": [
    "print(np.load(\"data/manually_labelled_entities.npy\", allow_pickle=True)[:10])"
   ]
  },
  {
   "cell_type": "code",
   "execution_count": null,
   "id": "f00e4d0b",
   "metadata": {},
   "outputs": [],
   "source": []
  }
 ],
 "metadata": {
  "kernelspec": {
   "display_name": "Python 3 (ipykernel)",
   "language": "python",
   "name": "python3"
  },
  "language_info": {
   "codemirror_mode": {
    "name": "ipython",
    "version": 3
   },
   "file_extension": ".py",
   "mimetype": "text/x-python",
   "name": "python",
   "nbconvert_exporter": "python",
   "pygments_lexer": "ipython3",
   "version": "3.9.12"
  },
  "toc": {
   "base_numbering": 1,
   "nav_menu": {},
   "number_sections": true,
   "sideBar": true,
   "skip_h1_title": false,
   "title_cell": "Table of Contents",
   "title_sidebar": "Contents",
   "toc_cell": false,
   "toc_position": {},
   "toc_section_display": true,
   "toc_window_display": false
  }
 },
 "nbformat": 4,
 "nbformat_minor": 5
}
