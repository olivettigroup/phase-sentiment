{
 "cells": [
  {
   "cell_type": "markdown",
   "id": "c27b59d5",
   "metadata": {},
   "source": [
    "# Entity aggregation using filters and BERTopic"
   ]
  },
  {
   "cell_type": "code",
   "execution_count": 1,
   "id": "256271a5-6eeb-480b-b71f-a254f271ba14",
   "metadata": {},
   "outputs": [],
   "source": [
    "from utils import *\n",
    "from bertopic import BERTopic"
   ]
  },
  {
   "cell_type": "markdown",
   "id": "fa619242-6ba2-44f5-9421-19a305984415",
   "metadata": {},
   "source": [
    "## Load the data\n",
    "This data should contain the following:\n",
    "1. A sentence (key: sentence),\n",
    "2. The paragraph the sentence was extracted from (key: paragraph),\n",
    "3. An extracted phase (key: phase),\n",
    "4. An extracted property (key: property),\n",
    "5. A relationship between phase and property, either \"positive\" or \"negative (key: relationship)."
   ]
  },
  {
   "cell_type": "code",
   "execution_count": null,
   "id": "5019975a-483c-4f5a-aa0b-50928c06899c",
   "metadata": {},
   "outputs": [],
   "source": [
    "sentence_data_raw = np.load(f\"data/YOUR_DATA_HERE.npy\", allow_pickle=True)\n",
    "\n",
    "# Lower everything to make sure that we don't have to deal with capitalisation\n",
    "for s in sentence_data_raw:\n",
    "    s['phase'] = s['phase'].lower()\n",
    "    s['property'] = s['property'].lower()\n",
    "    s['relationship'] = s['relationship'].lower()"
   ]
  },
  {
   "cell_type": "markdown",
   "id": "1fda45c5",
   "metadata": {},
   "source": [
    "## Change entity strings and discard unwanted ones"
   ]
  },
  {
   "cell_type": "code",
   "execution_count": null,
   "id": "1b1d683a-65d1-4a0f-a610-4a88b90bd304",
   "metadata": {},
   "outputs": [],
   "source": [
    "with open(\"data/elem_name_dict.json\", \"r\") as f:\n",
    "    elem_names_dict = json.load(f)\n",
    "elem_names_dict['aluminum'] = 'Al' # Add American spelling of aluminium\n",
    "elem_names_dict = {k.lower(): v.lower() for k, v in elem_names_dict.items()}\n",
    "  \n",
    "# And word here is going to be removed from the string\n",
    "soft_stop_words_phase = [\n",
    "    'precipitate', 'precipitates', 'intermetallic', 'intermetallics', 'particle', 'particles',\n",
    "    'dispersoid', 'dispersoids', 'nanoparticle', 'nanoparticles', 'precipitation', 'precipitations',\n",
    "    'strengthening', 'particulates', 'particulate', 'hardening', 'phase', 'phases', 'second', 'secondary',\n",
    "    'coherent', 'amorphous', 'content', 'solution', 'crystalline', 'fine', 'needles', 'clusters'\n",
    "]\n",
    "\n",
    "# Any word in here will delete the entire datapoint (sentence, phase, property, relationship)\n",
    "hard_stop_words_phase = [\n",
    "    'alloy', 'alloys', 'composite', 'composites', 'nanotube', 'nanotubes', 'nano-tube', 'nano-tubes',\n",
    "    'cnt', 'cnts', 'grain', 'zone', 'zones', 'GP', 'GPB', 'reinforcements', 'reinforcement', 'metastable',\n",
    "    'ceramic', 'ceramics', 'brittle', 'fiber', 'fibers', 'microfiber', 'microfibers', 'nano', 'solid fraction', 'small'\n",
    "]\n",
    "\n",
    "# Similarly for properties\n",
    "soft_stop_words_prop = []\n",
    "\n",
    "hard_stop_words_prop = ['cost', 'efficiency']"
   ]
  },
  {
   "cell_type": "code",
   "execution_count": null,
   "id": "9e419463-dcd8-4433-8f7b-849fb7b10ea9",
   "metadata": {},
   "outputs": [],
   "source": [
    "sentence_data_cleaned = remove_change_words_phase(sentence_data_cleaned, hard_stop_words_phase, soft_stop_words_phase, elem_names_dict)\n",
    "sentence_data_cleaned = remove_change_words_prop(sentence_data_cleaned, hard_stop_words_prop, soft_stop_words_prop)"
   ]
  },
  {
   "cell_type": "markdown",
   "id": "ebc6ea49-de28-4d9c-8e75-62b8eaebc103",
   "metadata": {},
   "source": [
    "## Group phases by chemical formulae"
   ]
  },
  {
   "cell_type": "code",
   "execution_count": null,
   "id": "f98435b7-26ba-4503-990a-5c42d130ed3a",
   "metadata": {},
   "outputs": [],
   "source": [
    "# chem_names should be a list of lists with the different ways to write the formla of certain phases\n",
    "chem_names = [\n",
    "    ['mg2si'], ['al3sc'], ['al2cu', 'cual2'], ['al3zr'], ['mgzn2'],\n",
    "    ['al3\\(sc,zr', 'al3\\(sc, zr', 'al3\\(zr,sc', 'al3\\(zr, sc'], ['al2culi'], ['al2cumg', 'cumgal2'], ['al3li'],\n",
    "    ['al5fesi', 'alfesi'], ['mg2al3', 'al3mg2'], ['al6mn', 'mnal6'], ['al12mg17', 'mg17al12'], ['al8fe2si'], ['b4c']\n",
    "]"
   ]
  },
  {
   "cell_type": "code",
   "execution_count": null,
   "id": "de0026b3-ea47-47b5-a4ac-be5ac1ca0457",
   "metadata": {},
   "outputs": [],
   "source": [
    "sentence_data_cleaned = merge_chem_names(sentence_data_cleaned, chem_names)"
   ]
  },
  {
   "cell_type": "markdown",
   "id": "987861f8-4581-41ed-8a05-13d356a1bd3f",
   "metadata": {},
   "source": [
    "## Group entities into standardised names"
   ]
  },
  {
   "cell_type": "code",
   "execution_count": 2,
   "id": "11d78ea4",
   "metadata": {},
   "outputs": [],
   "source": [
    "# This maps one phase name into another\n",
    "phase_map = {\n",
    "    'al2culi': 't1-al2culi', 't1': 't1-al2culi', 'alumina': 'al2o3', 'si carbide': 'sic', 'sicp': 'sic',\n",
    "    'si [to_keep]': 'si', 'al2cu': 'θ-al2cu', 'θ': 'θ-al2cu', 'b carbide': 'bc', 'e': 'η-mgzn2',\n",
    "    'si nitride': 'si3n4', 'al5fesi': 'β-al5fesi', 'fe rich': 'fe-rich', 'mg2si': 'β-mg2si', 'η': 'η-mgzn2',\n",
    "    'mgzn2': 'η-mgzn2', 'ω': 'ω-al2cu', 'al2cumg': 's-al2cumg', 's': 's-al2cumg', 'α alumina': 'α-al2o3',\n",
    "    'α al2o3': 'α-al2o3', 'q': 'q-alcumgsi', 'mg2al3': 'β-al3mg2', 'al3ni': 'ε-al3ni', 't': 't-al2mg3zn3',\n",
    "    'al2mg3zn3': 't-al2mg3zn3', 'al3li': 'δ-al3li', 'al3\\\\(sc,zr': 'al3(sc,zr)', 'meta-mgzn2': \"η'\",\n",
    "    'meta-al2cumg': \"s'\", 'meta-al3zr': \"β'-al3zr\", 'doublemeta-mg2si': \"β''\", 'meta-mg2si': \"β'\",\n",
    "    'al3(sc1 xzrx)': 'al3(sc,zr)', 'meta-al3li': \"δ'\", 'meta-al2cu': \"θ'\", 'α': 'α-Al', 'fcc al': 'α-Al',\n",
    "    'a al2o3': 'α-al2o3', 'α al': 'α-al', 'fe containing': 'fe-rich', 'feal3': 'al3fe', 'fe bearing': 'fe-rich',\n",
    "    'fe2al5': 'al5fe2', 'acicular si': 'si', 'al3scxzr1 x': 'al3(sc,zr)', \"γ al2o3\": \"γ-al2o3\", \"cu rich\": \"cu-rich\",\n",
    "    \"al8fe2si\": \"α-al8fe2si\", \"β'' phase\": \"β''\", 'a al': 'α-al', 'tial3': \"al3ti\", 'q al5cu2mg8si6': 'q-alcumgsi',\n",
    "    \"mg9si5\": \"β'\", \"al2mg5si4\": \"β''\", \"g'\": \"γ'\", '\\\\( {{\\\\η}}\\\\prime \\\\)': \"η'\", 'g al2o3': 'γ-al2o3',\n",
    "    'al3 (sc, zr)': 'al3(sc,zr)', 'primary α al': 'α-al', \"al3sc1-xzrx\": 'al3(sc,zr)', \"al3sc1zr1-x\": 'al3(sc,zr)'\n",
    "}\n",
    "phase_map = {k.lower(): v.lower() for k, v in phase_map.items()}\n",
    "\n",
    "# After the initial cleaning, we still get more undesired phases, we remove those\n",
    "phase_to_remove = [\n",
    "    'precipitates', 'particles', 'dispersoids', 'porosity', 'al', 'precipitations', 'solid solution', 'strengthening',\n",
    "    'phases', 'compounds', 'hardening', 'fine', 'coarse', 'phase', 'carbide', 'carbides', 'matrix',\n",
    "    'al solid solution', 'eutectic', 'primary', 'pfz', 'imc', 'imcs', 'graphite', 'constituent', 'al matrix',\n",
    "    'nanoscale', 'hard', 'clusters', 'oxide', 'nano', 'oxides', 'precipitated', 'alloying elements',\n",
    "    'dendrites', 'pores', 'microporosity', 'al cu', 'al si', 'zirconia', 'high si content', 'almg', 'liquid',\n",
    "    'quasicrystalline', 'intragranular', 'pfzs', 'hagbs', 'icosahedral', 'reinforcing', 'inclusions', 'almn',\n",
    "    'almgsi', 'almnsi', 'al mg si', 'fine grains', 'dispersed', 'transition metals', 'al fe', 'whiskers', 'excess si',\n",
    "    'needle shaped', 'lagbs', 'ptfe', 'thermally stable', 'coarse grains', 'gbps', 'si content', 'al zn mg',\n",
    "    'alcumg', 'soft', 'al zn mg cu', 'feal', 'work', 'al cu mg'\n",
    "]\n",
    "phase_to_remove = [p.lower() for p in phase_to_remove]\n",
    "\n",
    "# Idem for properties\n",
    "prop_map = {}\n",
    "prop_map = {k.lower(): v.lower() for k, v in prop_map.items()}\n",
    "\n",
    "prop_to_remove = ['properties', 'property', 'performance', 'mechanical', 'grain refinement']\n",
    "prop_to_remove = [p.lower() for p in prop_to_remove]"
   ]
  },
  {
   "cell_type": "code",
   "execution_count": null,
   "id": "cb7cecb9-e8b7-4f8f-85dd-334714559366",
   "metadata": {},
   "outputs": [],
   "source": [
    "sentence_data_cleaned = remove_change_full(sentence_data_cleaned, elem_names_dict, phase_to_remove, phase_map, prop_to_remove, prop_map)"
   ]
  },
  {
   "cell_type": "markdown",
   "id": "25cf8b1c-7b66-4992-a7e0-038d32e03500",
   "metadata": {},
   "source": [
    "## Split the mentions of the phases with the same name\n",
    "In the case of aluminium alloys, only the beta phase can represent different phases."
   ]
  },
  {
   "cell_type": "code",
   "execution_count": 14,
   "id": "9246b51e",
   "metadata": {},
   "outputs": [],
   "source": [
    "# This is a list of possible chemical formulae of the beta phase\n",
    "# We will search for those in the sentence and paragraph to determine the exact phase\n",
    "possible_beta = {\n",
    "    'AlFeSi': 'β-al5fesi', 'Al5FeSi': 'β-al5fesi',\n",
    "    'Al3Mg2': 'β-al3mg2', 'Mg2Al3': 'β-al3mg2', 'Mg2Si': 'β-mg2si'\n",
    "}"
   ]
  },
  {
   "cell_type": "code",
   "execution_count": null,
   "id": "6c6ac0bf-10db-4356-a5f0-93435cb91b2e",
   "metadata": {},
   "outputs": [],
   "source": [
    "sentence_data_cleaned = check_beta_paragraphs(sentence_data_cleaned, possible_beta)"
   ]
  },
  {
   "cell_type": "markdown",
   "id": "05a10ef6",
   "metadata": {},
   "source": [
    "## Topic modelling for properties\n",
    "For the properties, we perform seeded topic modeling using BERTopic."
   ]
  },
  {
   "cell_type": "code",
   "execution_count": 12,
   "id": "f6caba00",
   "metadata": {},
   "outputs": [],
   "source": [
    "to_cluster = list(set([s[\"property\"] for s in sentence_data_cleaned]))\n",
    "\n",
    "seeds = [\n",
    "    ['microhardness', 'hardness'],\n",
    "    ['strengthening', 'hardening', 'age hardening'],\n",
    "    ['elongation', 'ductility', 'plasticity'],\n",
    "    ['toughness', 'fracture toughness'],\n",
    "    ['specific strength', 'high temperature strength', 'mechanical strength', 'strength', 'high strength'],\n",
    "    ['strain hardening', 'work hardening'],\n",
    "    ['brittleness', 'brittle'],\n",
    "    ['corrosion', 'intergranular corrosion'],\n",
    "    ['stiffness', 'elastic modulus'],\n",
    "    ['uts/ys', 'elevated temperature ultimate tensile strength', 'ultimate tensile strength (uts)',\n",
    "     'ultimate strength', 'uts', 'tensile strength (uts)', 'ultimate tensile strength', 'ultimate rupture strength'],\n",
    "    ['mechanical properties'],\n",
    "    ['corrosion resistance'],\n",
    "    ['wear resistance'],\n",
    "    ['tensile strength'],\n",
    "    ['yield strength'],\n",
    "    ['microhardness'],\n",
    "    ['precipitation hardening'],\n",
    "    ['tensile properties'],\n",
    "    ['age hardening'],\n",
    "    ['toughness'],\n",
    "    ['creep resistance'],\n",
    "    ['elongation'],\n",
    "    ['thermal stability'],\n",
    "    ['mechanical strength'],\n",
    "    ['formability'],\n",
    "    ['brittle'],\n",
    "    ['elastic modulus'],\n",
    "    ['castability'],\n",
    "    ['fatigue strength'],\n",
    "    ['tribological properties'],\n",
    "    ['plasticity']\n",
    "]"
   ]
  },
  {
   "cell_type": "code",
   "execution_count": 243,
   "id": "435f56f6",
   "metadata": {},
   "outputs": [],
   "source": [
    "# Run model and get topics\n",
    "topic_model = BERTopic(seed_topic_list=seeds)\n",
    "topics, probs = topic_model.fit_transform(to_cluster)"
   ]
  },
  {
   "cell_type": "code",
   "execution_count": 248,
   "id": "23cad8f3",
   "metadata": {
    "scrolled": true
   },
   "outputs": [],
   "source": [
    "# Get results and save them\n",
    "res = topic_model.get_document_info(to_cluster)\n",
    "res.to_csv(\"data/bertopic_res_seeded.csv\")"
   ]
  },
  {
   "cell_type": "code",
   "execution_count": 15,
   "id": "c006508f",
   "metadata": {},
   "outputs": [
    {
     "data": {
      "text/plain": [
       "<AxesSubplot:>"
      ]
     },
     "execution_count": 15,
     "metadata": {},
     "output_type": "execute_result"
    },
    {
     "data": {
      "image/png": "[encoded data removed]",
      "text/plain": [
       "<Figure size 864x288 with 1 Axes>"
      ]
     },
     "metadata": {
      "needs_background": "light"
     },
     "output_type": "display_data"
    }
   ],
   "source": [
    "# Read saved results and plot the topic histogram\n",
    "res = pd.read_csv(\"data/bertopic_res_seeded.csv\", index_col=0)\n",
    "\n",
    "res['Topic'].value_counts().plot.bar(figsize=(12, 4))"
   ]
  },
  {
   "cell_type": "code",
   "execution_count": 18,
   "id": "d5953e44",
   "metadata": {
    "scrolled": true
   },
   "outputs": [],
   "source": [
    "# Only works for the paper data\n",
    "# List of manual labels, \"misc\" will be discarded\n",
    "topic_names_map = {\n",
    "    '-1_hydrogen_hot_tribological_electrochemical': \"misc\",\n",
    "    '0_properties_mechanical_surface_anisotropy': \"mechanical properties\",\n",
    "    '1_strength_shear_weight_load': \"strength\",\n",
    "    '2_wear_resistance_abrasive_sliding': \"wear\",\n",
    "    '3_thermal_stability_heat_expansion': \"thermal stability\",\n",
    "    '4_hardening_strain_bake_solution': \"hardening\",\n",
    "    '5_elongation_nucleation_shrinkage_spheroidization': \"elongation\",\n",
    "    '6_fatigue_cycle_crack_endurance': \"fatigue\",\n",
    "    '7_corrosion_intergranular_galvanic_inter': \"corrosion\",\n",
    "    '8_recrystallization_precipitation_hardening_precipitate': \"hardening\",\n",
    "    '9_corrosion_oxidation_inhibition_durability': \"corrosion\",\n",
    "    '10_resistance_corrosion_pitting_chloride': \"corrosion\",\n",
    "    '11_igc_susceptibility_scc_igcscc': \"corrosion\",\n",
    "    '12_plastic_plasticity_packaging_transparency': \"plastic properties\",\n",
    "    '13_temperature_melting_high_temperatures': \"high T properties\",\n",
    "    '14_toughness_failure_problems_sth': \"misc\",\n",
    "    '15_tensile_strength_uts_cohesion': \"tensile properties\",\n",
    "    '16_hardness_porosity_micro_si': \"hardness\",\n",
    "    '17_age_aging_hardening_ageing': \"hardening\",\n",
    "    '18_grain_refining_boundary_structure': \"grain properties\",\n",
    "    '19_stress_rupture_concentration_raisers': \"stress\",\n",
    "    '20_ductility_tensile_ductile_axial': \"tensile properties\",\n",
    "    '21_fracture_toughness_compatibility_bone': \"fracture properties\",\n",
    "    '22_brittle_dissolution_solubility_solid': \"brittleness\",\n",
    "    '23_crack_cracking_propagation_formation': \"fracture properties\",\n",
    "    '24_formability_workability_drawbacks_decomposition': \"formability\",\n",
    "    '25_modulus_elastic_elasticity_specific': \"tensile properties\",\n",
    "    '26_casting_cast_feedability_integrity': \"castability\",\n",
    "    '27_creep_life_diffusional_shielding': \"creep\",\n",
    "    '28_yield_ratio_strength_density': \"yield strength\",\n",
    "    '29_effects_harmful_beneficial_negative': \"misc\",\n",
    "    '30_dislocation_pinning_slip_obstruction': \"strength\",\n",
    "    '31_softening_cyclic_aging_hardening': \"misc\",\n",
    "    '32_brittle_brittleness_phase_chip': \"brittleness\",\n",
    "    '33_microhardness_segregation_evolution_smet': \"misc\",\n",
    "    '34_deformation_deformability_localization_intercrystalline': \"deformability\",\n",
    "    '35_electrical_insulator_conductivity_molten': \"electrical properties\"\n",
    "}"
   ]
  },
  {
   "cell_type": "code",
   "execution_count": 19,
   "id": "650296a8",
   "metadata": {},
   "outputs": [],
   "source": [
    "# Change the properties based on the list above\n",
    "sentence_data_cleaned_aggr = []\n",
    "\n",
    "for s in sentence_data_cleaned:\n",
    "    topic_name = res[res['Document'] == s[\"property\"]]['Name'].values[0]\n",
    "    s_copy = copy.deepcopy(s)\n",
    "    \n",
    "    if topic_names_map[topic_name]!='misc':\n",
    "        \n",
    "        s_copy[\"property\"] = topic_names_map[topic_name]\n",
    "        \n",
    "        if topic_names_map[topic_name]=='corrosion' or topic_names_map[topic_name]=='wear':\n",
    "            if 'resistance' in s_copy['property_orig'] or 'resistant' in s_copy['property_orig']or 'protection' in s_copy['property_orig']:\n",
    "                s_copy[cluster_dim] = f\"{topic_names_map[topic_name]} resistance\"\n",
    "                \n",
    "        if topic_names_map[topic_name]=='tensile properties' or topic_names_map[topic_name]=='strength':\n",
    "            if 'ultimate' in s_copy['property_orig']:\n",
    "                s_copy[cluster_dim] = f\"UTS\"\n",
    "                \n",
    "        del s_copy['paragraph']\n",
    "        del s_copy['phase_orig']\n",
    "        del s_copy['property_orig']\n",
    "        \n",
    "        sentence_data_cleaned_aggr.append(s_copy)"
   ]
  },
  {
   "cell_type": "code",
   "execution_count": null,
   "id": "f36377e5",
   "metadata": {},
   "outputs": [],
   "source": []
  }
 ],
 "metadata": {
  "kernelspec": {
   "display_name": "Python 3 (ipykernel)",
   "language": "python",
   "name": "python3"
  },
  "language_info": {
   "codemirror_mode": {
    "name": "ipython",
    "version": 3
   },
   "file_extension": ".py",
   "mimetype": "text/x-python",
   "name": "python",
   "nbconvert_exporter": "python",
   "pygments_lexer": "ipython3",
   "version": "3.9.12"
  },
  "toc": {
   "base_numbering": 1,
   "nav_menu": {},
   "number_sections": true,
   "sideBar": true,
   "skip_h1_title": false,
   "title_cell": "Table of Contents",
   "title_sidebar": "Contents",
   "toc_cell": false,
   "toc_position": {},
   "toc_section_display": true,
   "toc_window_display": false
  }
 },
 "nbformat": 4,
 "nbformat_minor": 5
}
